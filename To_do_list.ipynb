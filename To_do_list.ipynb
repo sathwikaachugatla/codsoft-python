{
  "nbformat": 4,
  "nbformat_minor": 0,
  "metadata": {
    "colab": {
      "provenance": [],
      "authorship_tag": "ABX9TyOrqh4c0UoZYdGimkNiKWD1",
      "include_colab_link": true
    },
    "kernelspec": {
      "name": "python3",
      "display_name": "Python 3"
    },
    "language_info": {
      "name": "python"
    }
  },
  "cells": [
    {
      "cell_type": "markdown",
      "metadata": {
        "id": "view-in-github",
        "colab_type": "text"
      },
      "source": [
        "<a href=\"https://colab.research.google.com/github/sathwikaachugatla/codsoft-python/blob/main/To_do_list.ipynb\" target=\"_parent\"><img src=\"https://colab.research.google.com/assets/colab-badge.svg\" alt=\"Open In Colab\"/></a>"
      ]
    },
    {
      "cell_type": "code",
      "execution_count": null,
      "metadata": {
        "colab": {
          "base_uri": "https://localhost:8080/"
        },
        "id": "bXUirU1FaB5X",
        "outputId": "163036b6-6530-4b28-c666-e498ac8c2706"
      },
      "outputs": [
        {
          "metadata": {
            "tags": null
          },
          "name": "stdout",
          "output_type": "stream",
          "text": [
            "To-Do List Application\n",
            "1. Show tasks\n",
            "2. Add task\n",
            "3. Remove task\n",
            "4. Complete task\n",
            "5. Update task\n",
            "6. Exit\n"
          ]
        }
      ],
      "source": [
        "import os\n",
        "\n",
        "class ToDoList:\n",
        "    def _init_(self):\n",
        "        self.tasks = []\n",
        "\n",
        "    def add_task(self, task):\n",
        "        self.tasks.append({'task': task, 'completed': False})\n",
        "        print(f'Task \"{task}\" added.')\n",
        "\n",
        "    def remove_task(self, index):\n",
        "        try:\n",
        "            removed_task = self.tasks.pop(index)\n",
        "            print(f'Task \"{removed_task[\"task\"]}\" removed.')\n",
        "        except IndexError:\n",
        "            print(\"Invalid task number.\")\n",
        "\n",
        "    def complete_task(self, index):\n",
        "        try:\n",
        "            self.tasks[index]['completed'] = True\n",
        "            print(f'Task \"{self.tasks[index][\"task\"]}\" marked as completed.')\n",
        "        except IndexError:\n",
        "            print(\"Invalid task number.\")\n",
        "\n",
        "    def update_task(self, index, new_task):\n",
        "        try:\n",
        "            self.tasks[index]['task'] = new_task\n",
        "            print(f'Task updated to \"{new_task}\".')\n",
        "        except IndexError:\n",
        "            print(\"Invalid task number.\")\n",
        "\n",
        "    def show_tasks(self):\n",
        "        if not self.tasks:\n",
        "            print(\"No tasks in the list.\")\n",
        "            return\n",
        "        for i, task in enumerate(self.tasks):\n",
        "            status = 'Done' if task['completed'] else 'Not Done'\n",
        "            print(f\"{i + 1}. {task['task']} - {status}\")\n",
        "\n",
        "def clear_screen():\n",
        "    os.system('cls' if os.name == 'nt' else 'clear')\n",
        "\n",
        "def main():\n",
        "    to_do_list = ToDoList()\n",
        "\n",
        "    while True:\n",
        "        clear_screen()\n",
        "        print(\"To-Do List Application\")\n",
        "        print(\"1. Show tasks\")\n",
        "        print(\"2. Add task\")\n",
        "        print(\"3. Remove task\")\n",
        "        print(\"4. Complete task\")\n",
        "        print(\"5. Update task\")\n",
        "        print(\"6. Exit\")\n",
        "\n",
        "        choice = input(\"Choose an option: \")\n",
        "\n",
        "        if choice == '1':\n",
        "            clear_screen()\n",
        "            to_do_list.show_tasks()\n",
        "        elif choice == '2':\n",
        "            task = input(\"Enter the task: \")\n",
        "            to_do_list.add_task(task)\n",
        "        elif choice == '3':\n",
        "            index = int(input(\"Enter the task number to remove: \")) - 1\n",
        "            to_do_list.remove_task(index)\n",
        "        elif choice == '4':\n",
        "            index = int(input(\"Enter the task number to mark as completed: \")) - 1\n",
        "            to_do_list.complete_task(index)\n",
        "        elif choice == '5':\n",
        "            index = int(input(\"Enter the task number to update: \")) - 1\n",
        "            new_task = input(\"Enter the new task: \")\n",
        "            to_do_list.update_task(index, new_task)\n",
        "        elif choice == '6':\n",
        "            break\n",
        "        else:\n",
        "            print(\"Invalid choice. Please try again.\")\n",
        "\n",
        "        input(\"Press Enter to continue...\")\n",
        "\n",
        "if __name__ == \"__main__\":\n",
        "    main()"
      ]
    }
  ]
}